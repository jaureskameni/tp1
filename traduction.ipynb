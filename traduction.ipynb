{
 "cells": [
  {
   "cell_type": "code",
   "execution_count": 17,
   "metadata": {},
   "outputs": [],
   "source": [
    "class neurone:\n",
    "    w0 = 0\n",
    "    w = [0,0,0,0]\n",
    "    \n",
    "    def y(self, x):\n",
    "        x = np.array([int])\n",
    "        y = 0.0\n",
    "        for i in range(len(x)):\n",
    "            y+= self.w[i]* int (x[i])\n",
    "        y - self.w0\n",
    "    \n",
    "    def z (self, x):\n",
    "        x = np.array([int])\n",
    "        if y(self.x) >= 0:\n",
    "            return 1\n",
    "        else:\n",
    "            return 0 \n",
    "    \n",
    "    def apprendre (self, x, d):\n",
    "        x = np.array([int])\n",
    "        success = false\n",
    "        z = self.z(x)\n",
    "        if (d == z):\n",
    "            success = true\n",
    "        for i in range(len(x)):\n",
    "            self.w[i] = self.w[i] + (d - z)* x[i]\n",
    "        w0 = w0 - (d - z)\n",
    "        success\n",
    "            "
   ]
  },
  {
   "cell_type": "code",
   "execution_count": null,
   "metadata": {},
   "outputs": [],
   "source": []
  },
  {
   "cell_type": "code",
   "execution_count": null,
   "metadata": {},
   "outputs": [],
   "source": []
  },
  {
   "cell_type": "code",
   "execution_count": null,
   "metadata": {},
   "outputs": [],
   "source": []
  }
 ],
 "metadata": {
  "kernelspec": {
   "display_name": "Python 3",
   "language": "python",
   "name": "python3"
  },
  "language_info": {
   "codemirror_mode": {
    "name": "ipython",
    "version": 3
   },
   "file_extension": ".py",
   "mimetype": "text/x-python",
   "name": "python",
   "nbconvert_exporter": "python",
   "pygments_lexer": "ipython3",
   "version": "3.8.3"
  }
 },
 "nbformat": 4,
 "nbformat_minor": 4
}
